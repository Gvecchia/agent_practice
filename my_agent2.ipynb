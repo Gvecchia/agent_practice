{
 "cells": [
  {
   "cell_type": "code",
   "execution_count": 1,
   "id": "ac1b25cd",
   "metadata": {},
   "outputs": [
    {
     "data": {
      "text/plain": [
       "True"
      ]
     },
     "execution_count": 1,
     "metadata": {},
     "output_type": "execute_result"
    }
   ],
   "source": [
    "# check token connection\n",
    "from dotenv import load_dotenv\n",
    "load_dotenv(override=True) # check api keys"
   ]
  },
  {
   "cell_type": "code",
   "execution_count": 3,
   "id": "0b0417a4",
   "metadata": {},
   "outputs": [],
   "source": [
    "from langchain.chat_models import init_chat_model # LLM model\n",
    "from langgraph.prebuilt import create_react_agent # to create an agent\n",
    "from langchain_core.tools import tool # for tools\n",
    "from langgraph.checkpoint.memory import MemorySaver # to handle memory threads\n",
    "from uuid import uuid4 # to create a memory thread id\n",
    "import ast # to create syntaxt tree from a string mathematical expression\n",
    "import operator # import basic math operators as functions"
   ]
  },
  {
   "cell_type": "code",
   "execution_count": 4,
   "id": "cade9d1e",
   "metadata": {},
   "outputs": [],
   "source": [
    "import enum # to create a fixed list of products\n",
    "\n",
    "class ProductNames(enum.Enum):\n",
    "    RedShirt = \"red shirt\"\n",
    "    BlueJeans = \"blue jeans\"\n",
    "    BlackShoes = \"black shoes\"\n",
    "    WhiteSocks = \"white socks\"\n",
    "    GrayHat = \"gray hat\"\n",
    "    GreenScarf = \"green scarf\"\n",
    "    YellowBelt = \"yellow belt\"\n",
    "    PurpleGloves = \"purple gloves\"\n",
    "    BrownJacket = \"brown jacket\"\n",
    "    PinkSweater = \"pink sweater\"\n",
    "\n",
    "# list of products and info\n",
    "\n",
    "PRODUCTS = [\n",
    "    {\n",
    "        \"name\": ProductNames.RedShirt.value,\n",
    "        \"price\": 20.00,\n",
    "        \"discount\": 0.10,\n",
    "        \"currency\": \"EUR\",\n",
    "        \"description\": \"A stylish red shirt made from high-quality cotton.\",\n",
    "    },\n",
    "    {\n",
    "        \"name\": ProductNames.BlueJeans.value,\n",
    "        \"price\": 40.00,\n",
    "        \"discount\": 0.20,\n",
    "        \"currency\": \"EUR\",\n",
    "        \"description\": \"A pair of comfortable blue jeans made from durable denim.\",\n",
    "    },\n",
    "    {\n",
    "        \"name\": ProductNames.BlackShoes.value,\n",
    "        \"price\": 30.00,\n",
    "        \"discount\": 0.15,\n",
    "        \"currency\": \"EUR\",\n",
    "        \"description\": \"A pair of elegant black shoes made from genuine leather.\",\n",
    "    },\n",
    "    {\n",
    "        \"name\": ProductNames.WhiteSocks.value,\n",
    "        \"price\": 5.00,\n",
    "        \"discount\": 0.05,\n",
    "        \"currency\": \"EUR\",\n",
    "        \"description\": \"A pack of soft white socks made from breathable cotton.\",\n",
    "    },\n",
    "    {\n",
    "        \"name\": ProductNames.GrayHat.value,\n",
    "        \"price\": 10.00,\n",
    "        \"discount\": 0.10,\n",
    "        \"currency\": \"EUR\",\n",
    "        \"description\": \"A stylish gray hat made from lightweight fabric.\",\n",
    "    },\n",
    "    {\n",
    "        \"name\": ProductNames.GreenScarf.value,\n",
    "        \"price\": 15.00,\n",
    "        \"discount\": 0.12,\n",
    "        \"currency\": \"EUR\",\n",
    "        \"description\": \"A warm green scarf made from wool.\",\n",
    "    },\n",
    "    {\n",
    "        \"name\": ProductNames.YellowBelt.value,\n",
    "        \"price\": 8.00,\n",
    "        \"discount\": 0.08,\n",
    "        \"currency\": \"EUR\",\n",
    "        \"description\": \"A yellow belt made from synthetic leather.\",\n",
    "    },\n",
    "    {\n",
    "        \"name\": ProductNames.PurpleGloves.value,\n",
    "        \"price\": 12.00,\n",
    "        \"discount\": 0.10,\n",
    "        \"currency\": \"EUR\",\n",
    "        \"description\": \"A pair of purple gloves made from soft fabric.\",\n",
    "    },\n",
    "    {\n",
    "        \"name\": ProductNames.BrownJacket.value,\n",
    "        \"price\": 50.00,\n",
    "        \"discount\": 0.25,\n",
    "        \"currency\": \"EUR\",\n",
    "        \"description\": \"A brown jacket made from genuine leather.\",\n",
    "    },\n",
    "    {\n",
    "        \"name\": ProductNames.PinkSweater.value,\n",
    "        \"price\": 25.00,\n",
    "        \"discount\": 0.15,\n",
    "        \"currency\": \"EUR\",\n",
    "        \"description\": \"A pink sweater made from high-quality cotton.\",\n",
    "    }\n",
    "]\n",
    "\n",
    "# maps syntax operations to corresponding operators\n",
    "OP_MAP = {\n",
    "    # binary\n",
    "    ast.Add: operator.__add__,\n",
    "    ast.Sub: operator.__sub__,\n",
    "    ast.Div: operator.__truediv__,\n",
    "    ast.Mult: operator.__mul__,\n",
    "    # unary\n",
    "    ast.UAdd: operator.__pos__,\n",
    "    ast.USub: operator.__neg__,\n",
    "}\n",
    "\n",
    "# establish allowed types in the syntax tree\n",
    "ALLOWED_TYPES = {int, float}\n",
    "\n",
    "# read the syntaxt tree in a recursive way and compute expressions\n",
    "def compute(expr):\n",
    "    match expr:\n",
    "        case ast.Constant(value=val):\n",
    "            if type(val) not in ALLOWED_TYPES:\n",
    "                raise SyntaxError(\n",
    "                    f\"Not a number {val!r}\"\n",
    "                )\n",
    "            return val\n",
    "        case ast.UnaryOp(op=opr, operand=val):\n",
    "            try:\n",
    "                return OP_MAP[type(opr)](compute(val))\n",
    "            except KeyError:\n",
    "                raise SyntaxError(f\"Unknown operation {ast.unparse(expr)}\")\n",
    "        case ast.BinOp(op=opr, left=lft, right=rgt):\n",
    "            try:\n",
    "                return OP_MAP[type(opr)](compute(lft), compute(rgt))\n",
    "            except KeyError:\n",
    "                raise SyntaxError(f\"Unknown operation {ast.unparse(expr)}\")"
   ]
  },
  {
   "cell_type": "code",
   "execution_count": 5,
   "id": "8575f1b0",
   "metadata": {},
   "outputs": [],
   "source": [
    "# tools definition\n",
    "\n",
    "@tool\n",
    "def get_product_info(product_name: ProductNames) -> dict:\n",
    "    \"\"\"\n",
    "    - this tool returns the identifier for a given product\n",
    "    - the input is the name of a product \n",
    "    - the format of the input is a member of ProductNames\n",
    "    \"\"\"\n",
    "    for product in PRODUCTS:\n",
    "        if product[\"name\"] == product_name.value:\n",
    "            return product\n",
    "    return None\n",
    "\n",
    "@tool\n",
    "def calculator(expression: str) -> float:\n",
    "    \"\"\"\n",
    "    - this tool resturns the value of a simple mathematical expression\n",
    "    - the input is a string with a mathematical expression (for instance, '(-2+3)*4 + 10')\n",
    "    - the format of the input is a string\n",
    "    \"\"\"\n",
    "    tree = ast.parse(expression,mode='eval')\n",
    "    return compute(tree.body)"
   ]
  },
  {
   "cell_type": "code",
   "execution_count": 6,
   "id": "e683327b",
   "metadata": {},
   "outputs": [],
   "source": [
    "# define LLM model\n",
    "llm = init_chat_model(\"gemini-2.0-flash\", model_provider=\"google_genai\")"
   ]
  },
  {
   "cell_type": "code",
   "execution_count": 7,
   "id": "679e6fa4",
   "metadata": {},
   "outputs": [],
   "source": [
    "# custom prompt, memory thread and agent definition\n",
    "\n",
    "SHOPPING_AGENT_PROMPT = \"\"\"\"\n",
    "# you are an efficient customer supporter from a prestigiuos and refined shop\n",
    "# your task is either to give information about products or give the overall price of the required products (considering the discount). \n",
    "# if you are asked to give the price, it is up to you to build the mathematical expression. Use the calculator tool to give the price.\n",
    "# for example, the mathematical expression for the price of two red shirts and one yellow belt becomes the following:\n",
    "# '2*(20.00 - 0.10*20.00) + ( 8.00 - 0.08*8.00 )'\n",
    "# and the final price is 43.36 EUR. \n",
    "# if that product is not in the PRODUCT list, tell the customer that you do not sell that item\n",
    "\"\"\"\n",
    "\n",
    "memory = MemorySaver()\n",
    "\n",
    "graph_with_memory = create_react_agent(\n",
    "    model=llm,\n",
    "    tools=[get_product_info,calculator],\n",
    "    prompt=SHOPPING_AGENT_PROMPT,\n",
    "    checkpointer=memory,\n",
    ")\n",
    "\n",
    "my_config = {\n",
    "    \"configurable\": {\n",
    "        \"thread_id\": str(uuid4()) # The thread_id is a unique identifier for each conversation thread.\n",
    "        }\n",
    "}\n"
   ]
  },
  {
   "cell_type": "code",
   "execution_count": 8,
   "id": "93e285c8",
   "metadata": {},
   "outputs": [
    {
     "name": "stdout",
     "output_type": "stream",
     "text": [
      "The red shirt costs 20.00 EUR. We are currently offering a 10% discount on this item.\n"
     ]
    }
   ],
   "source": [
    "question = \"\"\"\"How much does the red shirt cost?\"\"\"\n",
    "response = graph_with_memory.invoke({\"messages\": [{\"role\": \"user\", \"content\": question}]},config=my_config)\n",
    "ai_messages = [messages for messages in response['messages'] if messages.type =='ai']\n",
    "print(ai_messages[-1].content)"
   ]
  },
  {
   "cell_type": "code",
   "execution_count": 9,
   "id": "76a2118e",
   "metadata": {},
   "outputs": [
    {
     "name": "stdout",
     "output_type": "stream",
     "text": [
      "The red shirt costs 20.00 EUR, but with the 10% discount, you only pay 18.00 EUR.\n"
     ]
    }
   ],
   "source": [
    "question = \"\"\"\"so, how much should I pay?\"\"\"\n",
    "response = graph_with_memory.invoke({\"messages\": [{\"role\": \"user\", \"content\": question}]},config=my_config)\n",
    "ai_messages = [messages for messages in response['messages'] if messages.type =='ai']\n",
    "print(ai_messages[-1].content)"
   ]
  },
  {
   "cell_type": "code",
   "execution_count": 10,
   "id": "6215daae",
   "metadata": {},
   "outputs": [
    {
     "name": "stdout",
     "output_type": "stream",
     "text": [
      "The blue jeans cost 40.00 EUR. With a 20% discount, the price is 32.00 EUR. The red shirt is 18.00 EUR with the discount. Therefore, the total cost would be 50.00 EUR.\n"
     ]
    }
   ],
   "source": [
    "question = \"\"\"\"I also need a pair of blue jeans. How much is the total?\"\"\"\n",
    "response = graph_with_memory.invoke({\"messages\": [{\"role\": \"user\", \"content\": question}]},config=my_config)\n",
    "ai_messages = [messages for messages in response['messages'] if messages.type =='ai']\n",
    "print(ai_messages[-1].content)"
   ]
  }
 ],
 "metadata": {
  "kernelspec": {
   "display_name": "Python (LLM_env)",
   "language": "python",
   "name": "llm_env"
  },
  "language_info": {
   "codemirror_mode": {
    "name": "ipython",
    "version": 3
   },
   "file_extension": ".py",
   "mimetype": "text/x-python",
   "name": "python",
   "nbconvert_exporter": "python",
   "pygments_lexer": "ipython3",
   "version": "3.13.2"
  }
 },
 "nbformat": 4,
 "nbformat_minor": 5
}
